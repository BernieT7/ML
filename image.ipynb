{
  "nbformat": 4,
  "nbformat_minor": 0,
  "metadata": {
    "colab": {
      "provenance": [],
      "authorship_tag": "ABX9TyNcNSEQerRrN6NGaTChCZW0",
      "include_colab_link": true
    },
    "kernelspec": {
      "name": "python3",
      "display_name": "Python 3"
    },
    "language_info": {
      "name": "python"
    },
    "widgets": {
      "application/vnd.jupyter.widget-state+json": {
        "009d66c91c9243279888ee9f55817a07": {
          "model_module": "@jupyter-widgets/controls",
          "model_name": "HBoxModel",
          "model_module_version": "1.5.0",
          "state": {
            "_dom_classes": [],
            "_model_module": "@jupyter-widgets/controls",
            "_model_module_version": "1.5.0",
            "_model_name": "HBoxModel",
            "_view_count": null,
            "_view_module": "@jupyter-widgets/controls",
            "_view_module_version": "1.5.0",
            "_view_name": "HBoxView",
            "box_style": "",
            "children": [
              "IPY_MODEL_e3deb1c4cc5e4b709d60d9bf9b46e0e9",
              "IPY_MODEL_4d2544a4029c40a2adec6aa81d771878",
              "IPY_MODEL_47b35095b82c47df9e23d23776ca2fc9"
            ],
            "layout": "IPY_MODEL_1e1f42e27b5b487aacc98835ac6c6714"
          }
        },
        "e3deb1c4cc5e4b709d60d9bf9b46e0e9": {
          "model_module": "@jupyter-widgets/controls",
          "model_name": "HTMLModel",
          "model_module_version": "1.5.0",
          "state": {
            "_dom_classes": [],
            "_model_module": "@jupyter-widgets/controls",
            "_model_module_version": "1.5.0",
            "_model_name": "HTMLModel",
            "_view_count": null,
            "_view_module": "@jupyter-widgets/controls",
            "_view_module_version": "1.5.0",
            "_view_name": "HTMLView",
            "description": "",
            "description_tooltip": null,
            "layout": "IPY_MODEL_5f691104a54a41568acd9e00d31f0792",
            "placeholder": "​",
            "style": "IPY_MODEL_6e0982c5864843b5a4d90bcfef40ca07",
            "value": "100%"
          }
        },
        "4d2544a4029c40a2adec6aa81d771878": {
          "model_module": "@jupyter-widgets/controls",
          "model_name": "FloatProgressModel",
          "model_module_version": "1.5.0",
          "state": {
            "_dom_classes": [],
            "_model_module": "@jupyter-widgets/controls",
            "_model_module_version": "1.5.0",
            "_model_name": "FloatProgressModel",
            "_view_count": null,
            "_view_module": "@jupyter-widgets/controls",
            "_view_module_version": "1.5.0",
            "_view_name": "ProgressView",
            "bar_style": "success",
            "description": "",
            "description_tooltip": null,
            "layout": "IPY_MODEL_61b79e8a36304a758abdad9f0305f10e",
            "max": 10,
            "min": 0,
            "orientation": "horizontal",
            "style": "IPY_MODEL_b1a206f9fde34baeb414db9e63b0bca3",
            "value": 10
          }
        },
        "47b35095b82c47df9e23d23776ca2fc9": {
          "model_module": "@jupyter-widgets/controls",
          "model_name": "HTMLModel",
          "model_module_version": "1.5.0",
          "state": {
            "_dom_classes": [],
            "_model_module": "@jupyter-widgets/controls",
            "_model_module_version": "1.5.0",
            "_model_name": "HTMLModel",
            "_view_count": null,
            "_view_module": "@jupyter-widgets/controls",
            "_view_module_version": "1.5.0",
            "_view_name": "HTMLView",
            "description": "",
            "description_tooltip": null,
            "layout": "IPY_MODEL_537459fae99b4b338d102c3fd7f5ee18",
            "placeholder": "​",
            "style": "IPY_MODEL_e213cca7def44835ab3b7d507d0f691c",
            "value": " 10/10 [02:06&lt;00:00, 12.56s/it]"
          }
        },
        "1e1f42e27b5b487aacc98835ac6c6714": {
          "model_module": "@jupyter-widgets/base",
          "model_name": "LayoutModel",
          "model_module_version": "1.2.0",
          "state": {
            "_model_module": "@jupyter-widgets/base",
            "_model_module_version": "1.2.0",
            "_model_name": "LayoutModel",
            "_view_count": null,
            "_view_module": "@jupyter-widgets/base",
            "_view_module_version": "1.2.0",
            "_view_name": "LayoutView",
            "align_content": null,
            "align_items": null,
            "align_self": null,
            "border": null,
            "bottom": null,
            "display": null,
            "flex": null,
            "flex_flow": null,
            "grid_area": null,
            "grid_auto_columns": null,
            "grid_auto_flow": null,
            "grid_auto_rows": null,
            "grid_column": null,
            "grid_gap": null,
            "grid_row": null,
            "grid_template_areas": null,
            "grid_template_columns": null,
            "grid_template_rows": null,
            "height": null,
            "justify_content": null,
            "justify_items": null,
            "left": null,
            "margin": null,
            "max_height": null,
            "max_width": null,
            "min_height": null,
            "min_width": null,
            "object_fit": null,
            "object_position": null,
            "order": null,
            "overflow": null,
            "overflow_x": null,
            "overflow_y": null,
            "padding": null,
            "right": null,
            "top": null,
            "visibility": null,
            "width": null
          }
        },
        "5f691104a54a41568acd9e00d31f0792": {
          "model_module": "@jupyter-widgets/base",
          "model_name": "LayoutModel",
          "model_module_version": "1.2.0",
          "state": {
            "_model_module": "@jupyter-widgets/base",
            "_model_module_version": "1.2.0",
            "_model_name": "LayoutModel",
            "_view_count": null,
            "_view_module": "@jupyter-widgets/base",
            "_view_module_version": "1.2.0",
            "_view_name": "LayoutView",
            "align_content": null,
            "align_items": null,
            "align_self": null,
            "border": null,
            "bottom": null,
            "display": null,
            "flex": null,
            "flex_flow": null,
            "grid_area": null,
            "grid_auto_columns": null,
            "grid_auto_flow": null,
            "grid_auto_rows": null,
            "grid_column": null,
            "grid_gap": null,
            "grid_row": null,
            "grid_template_areas": null,
            "grid_template_columns": null,
            "grid_template_rows": null,
            "height": null,
            "justify_content": null,
            "justify_items": null,
            "left": null,
            "margin": null,
            "max_height": null,
            "max_width": null,
            "min_height": null,
            "min_width": null,
            "object_fit": null,
            "object_position": null,
            "order": null,
            "overflow": null,
            "overflow_x": null,
            "overflow_y": null,
            "padding": null,
            "right": null,
            "top": null,
            "visibility": null,
            "width": null
          }
        },
        "6e0982c5864843b5a4d90bcfef40ca07": {
          "model_module": "@jupyter-widgets/controls",
          "model_name": "DescriptionStyleModel",
          "model_module_version": "1.5.0",
          "state": {
            "_model_module": "@jupyter-widgets/controls",
            "_model_module_version": "1.5.0",
            "_model_name": "DescriptionStyleModel",
            "_view_count": null,
            "_view_module": "@jupyter-widgets/base",
            "_view_module_version": "1.2.0",
            "_view_name": "StyleView",
            "description_width": ""
          }
        },
        "61b79e8a36304a758abdad9f0305f10e": {
          "model_module": "@jupyter-widgets/base",
          "model_name": "LayoutModel",
          "model_module_version": "1.2.0",
          "state": {
            "_model_module": "@jupyter-widgets/base",
            "_model_module_version": "1.2.0",
            "_model_name": "LayoutModel",
            "_view_count": null,
            "_view_module": "@jupyter-widgets/base",
            "_view_module_version": "1.2.0",
            "_view_name": "LayoutView",
            "align_content": null,
            "align_items": null,
            "align_self": null,
            "border": null,
            "bottom": null,
            "display": null,
            "flex": null,
            "flex_flow": null,
            "grid_area": null,
            "grid_auto_columns": null,
            "grid_auto_flow": null,
            "grid_auto_rows": null,
            "grid_column": null,
            "grid_gap": null,
            "grid_row": null,
            "grid_template_areas": null,
            "grid_template_columns": null,
            "grid_template_rows": null,
            "height": null,
            "justify_content": null,
            "justify_items": null,
            "left": null,
            "margin": null,
            "max_height": null,
            "max_width": null,
            "min_height": null,
            "min_width": null,
            "object_fit": null,
            "object_position": null,
            "order": null,
            "overflow": null,
            "overflow_x": null,
            "overflow_y": null,
            "padding": null,
            "right": null,
            "top": null,
            "visibility": null,
            "width": null
          }
        },
        "b1a206f9fde34baeb414db9e63b0bca3": {
          "model_module": "@jupyter-widgets/controls",
          "model_name": "ProgressStyleModel",
          "model_module_version": "1.5.0",
          "state": {
            "_model_module": "@jupyter-widgets/controls",
            "_model_module_version": "1.5.0",
            "_model_name": "ProgressStyleModel",
            "_view_count": null,
            "_view_module": "@jupyter-widgets/base",
            "_view_module_version": "1.2.0",
            "_view_name": "StyleView",
            "bar_color": null,
            "description_width": ""
          }
        },
        "537459fae99b4b338d102c3fd7f5ee18": {
          "model_module": "@jupyter-widgets/base",
          "model_name": "LayoutModel",
          "model_module_version": "1.2.0",
          "state": {
            "_model_module": "@jupyter-widgets/base",
            "_model_module_version": "1.2.0",
            "_model_name": "LayoutModel",
            "_view_count": null,
            "_view_module": "@jupyter-widgets/base",
            "_view_module_version": "1.2.0",
            "_view_name": "LayoutView",
            "align_content": null,
            "align_items": null,
            "align_self": null,
            "border": null,
            "bottom": null,
            "display": null,
            "flex": null,
            "flex_flow": null,
            "grid_area": null,
            "grid_auto_columns": null,
            "grid_auto_flow": null,
            "grid_auto_rows": null,
            "grid_column": null,
            "grid_gap": null,
            "grid_row": null,
            "grid_template_areas": null,
            "grid_template_columns": null,
            "grid_template_rows": null,
            "height": null,
            "justify_content": null,
            "justify_items": null,
            "left": null,
            "margin": null,
            "max_height": null,
            "max_width": null,
            "min_height": null,
            "min_width": null,
            "object_fit": null,
            "object_position": null,
            "order": null,
            "overflow": null,
            "overflow_x": null,
            "overflow_y": null,
            "padding": null,
            "right": null,
            "top": null,
            "visibility": null,
            "width": null
          }
        },
        "e213cca7def44835ab3b7d507d0f691c": {
          "model_module": "@jupyter-widgets/controls",
          "model_name": "DescriptionStyleModel",
          "model_module_version": "1.5.0",
          "state": {
            "_model_module": "@jupyter-widgets/controls",
            "_model_module_version": "1.5.0",
            "_model_name": "DescriptionStyleModel",
            "_view_count": null,
            "_view_module": "@jupyter-widgets/base",
            "_view_module_version": "1.2.0",
            "_view_name": "StyleView",
            "description_width": ""
          }
        },
        "abd088fa3486466da3bf75392b317404": {
          "model_module": "@jupyter-widgets/controls",
          "model_name": "HBoxModel",
          "model_module_version": "1.5.0",
          "state": {
            "_dom_classes": [],
            "_model_module": "@jupyter-widgets/controls",
            "_model_module_version": "1.5.0",
            "_model_name": "HBoxModel",
            "_view_count": null,
            "_view_module": "@jupyter-widgets/controls",
            "_view_module_version": "1.5.0",
            "_view_name": "HBoxView",
            "box_style": "",
            "children": [
              "IPY_MODEL_6c3ccc3c30c44966a22f63bed4c6d080",
              "IPY_MODEL_2d7499335cfd4a8cad44b21873a73968",
              "IPY_MODEL_4cc61d926ba0492c811dd403e8f5267c"
            ],
            "layout": "IPY_MODEL_877621de525b4e8ea01dc4332203f3a9"
          }
        },
        "6c3ccc3c30c44966a22f63bed4c6d080": {
          "model_module": "@jupyter-widgets/controls",
          "model_name": "HTMLModel",
          "model_module_version": "1.5.0",
          "state": {
            "_dom_classes": [],
            "_model_module": "@jupyter-widgets/controls",
            "_model_module_version": "1.5.0",
            "_model_name": "HTMLModel",
            "_view_count": null,
            "_view_module": "@jupyter-widgets/controls",
            "_view_module_version": "1.5.0",
            "_view_name": "HTMLView",
            "description": "",
            "description_tooltip": null,
            "layout": "IPY_MODEL_d2a35e1f546c455297c074dbd6f1f3b6",
            "placeholder": "​",
            "style": "IPY_MODEL_63b8429b8721493fb577fa69d7c0fa7d",
            "value": "100%"
          }
        },
        "2d7499335cfd4a8cad44b21873a73968": {
          "model_module": "@jupyter-widgets/controls",
          "model_name": "FloatProgressModel",
          "model_module_version": "1.5.0",
          "state": {
            "_dom_classes": [],
            "_model_module": "@jupyter-widgets/controls",
            "_model_module_version": "1.5.0",
            "_model_name": "FloatProgressModel",
            "_view_count": null,
            "_view_module": "@jupyter-widgets/controls",
            "_view_module_version": "1.5.0",
            "_view_name": "ProgressView",
            "bar_style": "success",
            "description": "",
            "description_tooltip": null,
            "layout": "IPY_MODEL_c65dc1c82a3c49ac8f8347b4a9699b0d",
            "max": 10,
            "min": 0,
            "orientation": "horizontal",
            "style": "IPY_MODEL_c41990c1d90d4cffb7df6eee3aa6d68d",
            "value": 10
          }
        },
        "4cc61d926ba0492c811dd403e8f5267c": {
          "model_module": "@jupyter-widgets/controls",
          "model_name": "HTMLModel",
          "model_module_version": "1.5.0",
          "state": {
            "_dom_classes": [],
            "_model_module": "@jupyter-widgets/controls",
            "_model_module_version": "1.5.0",
            "_model_name": "HTMLModel",
            "_view_count": null,
            "_view_module": "@jupyter-widgets/controls",
            "_view_module_version": "1.5.0",
            "_view_name": "HTMLView",
            "description": "",
            "description_tooltip": null,
            "layout": "IPY_MODEL_f25d2b3554694ee88c2420abfdc48f6e",
            "placeholder": "​",
            "style": "IPY_MODEL_413a3871409b4c358e87e2cb8c958cbb",
            "value": " 10/10 [02:13&lt;00:00, 13.44s/it]"
          }
        },
        "877621de525b4e8ea01dc4332203f3a9": {
          "model_module": "@jupyter-widgets/base",
          "model_name": "LayoutModel",
          "model_module_version": "1.2.0",
          "state": {
            "_model_module": "@jupyter-widgets/base",
            "_model_module_version": "1.2.0",
            "_model_name": "LayoutModel",
            "_view_count": null,
            "_view_module": "@jupyter-widgets/base",
            "_view_module_version": "1.2.0",
            "_view_name": "LayoutView",
            "align_content": null,
            "align_items": null,
            "align_self": null,
            "border": null,
            "bottom": null,
            "display": null,
            "flex": null,
            "flex_flow": null,
            "grid_area": null,
            "grid_auto_columns": null,
            "grid_auto_flow": null,
            "grid_auto_rows": null,
            "grid_column": null,
            "grid_gap": null,
            "grid_row": null,
            "grid_template_areas": null,
            "grid_template_columns": null,
            "grid_template_rows": null,
            "height": null,
            "justify_content": null,
            "justify_items": null,
            "left": null,
            "margin": null,
            "max_height": null,
            "max_width": null,
            "min_height": null,
            "min_width": null,
            "object_fit": null,
            "object_position": null,
            "order": null,
            "overflow": null,
            "overflow_x": null,
            "overflow_y": null,
            "padding": null,
            "right": null,
            "top": null,
            "visibility": null,
            "width": null
          }
        },
        "d2a35e1f546c455297c074dbd6f1f3b6": {
          "model_module": "@jupyter-widgets/base",
          "model_name": "LayoutModel",
          "model_module_version": "1.2.0",
          "state": {
            "_model_module": "@jupyter-widgets/base",
            "_model_module_version": "1.2.0",
            "_model_name": "LayoutModel",
            "_view_count": null,
            "_view_module": "@jupyter-widgets/base",
            "_view_module_version": "1.2.0",
            "_view_name": "LayoutView",
            "align_content": null,
            "align_items": null,
            "align_self": null,
            "border": null,
            "bottom": null,
            "display": null,
            "flex": null,
            "flex_flow": null,
            "grid_area": null,
            "grid_auto_columns": null,
            "grid_auto_flow": null,
            "grid_auto_rows": null,
            "grid_column": null,
            "grid_gap": null,
            "grid_row": null,
            "grid_template_areas": null,
            "grid_template_columns": null,
            "grid_template_rows": null,
            "height": null,
            "justify_content": null,
            "justify_items": null,
            "left": null,
            "margin": null,
            "max_height": null,
            "max_width": null,
            "min_height": null,
            "min_width": null,
            "object_fit": null,
            "object_position": null,
            "order": null,
            "overflow": null,
            "overflow_x": null,
            "overflow_y": null,
            "padding": null,
            "right": null,
            "top": null,
            "visibility": null,
            "width": null
          }
        },
        "63b8429b8721493fb577fa69d7c0fa7d": {
          "model_module": "@jupyter-widgets/controls",
          "model_name": "DescriptionStyleModel",
          "model_module_version": "1.5.0",
          "state": {
            "_model_module": "@jupyter-widgets/controls",
            "_model_module_version": "1.5.0",
            "_model_name": "DescriptionStyleModel",
            "_view_count": null,
            "_view_module": "@jupyter-widgets/base",
            "_view_module_version": "1.2.0",
            "_view_name": "StyleView",
            "description_width": ""
          }
        },
        "c65dc1c82a3c49ac8f8347b4a9699b0d": {
          "model_module": "@jupyter-widgets/base",
          "model_name": "LayoutModel",
          "model_module_version": "1.2.0",
          "state": {
            "_model_module": "@jupyter-widgets/base",
            "_model_module_version": "1.2.0",
            "_model_name": "LayoutModel",
            "_view_count": null,
            "_view_module": "@jupyter-widgets/base",
            "_view_module_version": "1.2.0",
            "_view_name": "LayoutView",
            "align_content": null,
            "align_items": null,
            "align_self": null,
            "border": null,
            "bottom": null,
            "display": null,
            "flex": null,
            "flex_flow": null,
            "grid_area": null,
            "grid_auto_columns": null,
            "grid_auto_flow": null,
            "grid_auto_rows": null,
            "grid_column": null,
            "grid_gap": null,
            "grid_row": null,
            "grid_template_areas": null,
            "grid_template_columns": null,
            "grid_template_rows": null,
            "height": null,
            "justify_content": null,
            "justify_items": null,
            "left": null,
            "margin": null,
            "max_height": null,
            "max_width": null,
            "min_height": null,
            "min_width": null,
            "object_fit": null,
            "object_position": null,
            "order": null,
            "overflow": null,
            "overflow_x": null,
            "overflow_y": null,
            "padding": null,
            "right": null,
            "top": null,
            "visibility": null,
            "width": null
          }
        },
        "c41990c1d90d4cffb7df6eee3aa6d68d": {
          "model_module": "@jupyter-widgets/controls",
          "model_name": "ProgressStyleModel",
          "model_module_version": "1.5.0",
          "state": {
            "_model_module": "@jupyter-widgets/controls",
            "_model_module_version": "1.5.0",
            "_model_name": "ProgressStyleModel",
            "_view_count": null,
            "_view_module": "@jupyter-widgets/base",
            "_view_module_version": "1.2.0",
            "_view_name": "StyleView",
            "bar_color": null,
            "description_width": ""
          }
        },
        "f25d2b3554694ee88c2420abfdc48f6e": {
          "model_module": "@jupyter-widgets/base",
          "model_name": "LayoutModel",
          "model_module_version": "1.2.0",
          "state": {
            "_model_module": "@jupyter-widgets/base",
            "_model_module_version": "1.2.0",
            "_model_name": "LayoutModel",
            "_view_count": null,
            "_view_module": "@jupyter-widgets/base",
            "_view_module_version": "1.2.0",
            "_view_name": "LayoutView",
            "align_content": null,
            "align_items": null,
            "align_self": null,
            "border": null,
            "bottom": null,
            "display": null,
            "flex": null,
            "flex_flow": null,
            "grid_area": null,
            "grid_auto_columns": null,
            "grid_auto_flow": null,
            "grid_auto_rows": null,
            "grid_column": null,
            "grid_gap": null,
            "grid_row": null,
            "grid_template_areas": null,
            "grid_template_columns": null,
            "grid_template_rows": null,
            "height": null,
            "justify_content": null,
            "justify_items": null,
            "left": null,
            "margin": null,
            "max_height": null,
            "max_width": null,
            "min_height": null,
            "min_width": null,
            "object_fit": null,
            "object_position": null,
            "order": null,
            "overflow": null,
            "overflow_x": null,
            "overflow_y": null,
            "padding": null,
            "right": null,
            "top": null,
            "visibility": null,
            "width": null
          }
        },
        "413a3871409b4c358e87e2cb8c958cbb": {
          "model_module": "@jupyter-widgets/controls",
          "model_name": "DescriptionStyleModel",
          "model_module_version": "1.5.0",
          "state": {
            "_model_module": "@jupyter-widgets/controls",
            "_model_module_version": "1.5.0",
            "_model_name": "DescriptionStyleModel",
            "_view_count": null,
            "_view_module": "@jupyter-widgets/base",
            "_view_module_version": "1.2.0",
            "_view_name": "StyleView",
            "description_width": ""
          }
        }
      }
    }
  },
  "cells": [
    {
      "cell_type": "markdown",
      "metadata": {
        "id": "view-in-github",
        "colab_type": "text"
      },
      "source": [
        "<a href=\"https://colab.research.google.com/github/BernieT7/ML/blob/main/image.ipynb\" target=\"_parent\"><img src=\"https://colab.research.google.com/assets/colab-badge.svg\" alt=\"Open In Colab\"/></a>"
      ]
    },
    {
      "cell_type": "code",
      "execution_count": null,
      "metadata": {
        "id": "52OskKEQjnbZ"
      },
      "outputs": [],
      "source": [
        "from torchvision import datasets         # 取得圖像資料用 # pytorch官網 > Docs > pytorch domain > Datasets\n",
        "from torchvision.transforms import ToTensor   # 轉換成tensor用\n",
        "import matplotlib.pyplot as plt\n",
        "import random\n",
        "from torch.utils.data import DataLoader     # 分堆用\n",
        "from torch import nn\n",
        "import torch"
      ]
    },
    {
      "cell_type": "code",
      "source": [
        "train_data = datasets.FashionMNIST(\n",
        "  root=\"image\",     # 儲存檔名\n",
        "  train=True,      # 取得訓練集\n",
        "  download=True,\n",
        "  transform=ToTensor()  # 轉換成tensor\n",
        ")\n",
        "\n",
        "test_data = datasets.FashionMNIST(\n",
        "  root=\"image\",     # 儲存檔名\n",
        "  train=False,      # 取得測試集\n",
        "  download=True,\n",
        "  transform=ToTensor()  # 轉換成tensor\n",
        ")"
      ],
      "metadata": {
        "id": "cS9v1ZNXp1jE"
      },
      "execution_count": null,
      "outputs": []
    },
    {
      "cell_type": "code",
      "source": [
        "img, label = train_data[0]\n",
        "class_names = train_data.classes            # 可以取得圖像的結果，也就是y值\n",
        "class_names[label]\n",
        "img.shape"
      ],
      "metadata": {
        "colab": {
          "base_uri": "https://localhost:8080/"
        },
        "id": "_PQnPAegq37r",
        "outputId": "fcd8e08f-e411-4306-a5b4-d00b6646afb2"
      },
      "execution_count": null,
      "outputs": [
        {
          "output_type": "execute_result",
          "data": {
            "text/plain": [
              "torch.Size([1, 28, 28])"
            ]
          },
          "metadata": {},
          "execution_count": 130
        }
      ]
    },
    {
      "cell_type": "code",
      "source": [
        "random_idx = random.randint(0, len(train_data))\n",
        "img, label = train_data[random_idx]\n",
        "plt.imshow(img.permute(1, 2, 0), cmap=\"gray\")     # plt.imshow(圖, 顏色)可以畫出圖像， permute(新位置是原位置的誰)會幫我們交換順序\n",
        "plt.title(class_names[label])"
      ],
      "metadata": {
        "colab": {
          "base_uri": "https://localhost:8080/",
          "height": 469
        },
        "id": "brnYMdonrroo",
        "outputId": "de8af12c-b9d8-4834-a0c5-9635d66ae248"
      },
      "execution_count": null,
      "outputs": [
        {
          "output_type": "execute_result",
          "data": {
            "text/plain": [
              "Text(0.5, 1.0, 'Dress')"
            ]
          },
          "metadata": {},
          "execution_count": 131
        },
        {
          "output_type": "display_data",
          "data": {
            "text/plain": [
              "<Figure size 640x480 with 1 Axes>"
            ],
            "image/png": "[encoded data removed]"
          },
          "metadata": {}
        }
      ]
    },
    {
      "cell_type": "code",
      "source": [
        "# 過去gradient decent時，要看過所有的資料才能進行，但如果今天的資料非常大量將會遇到執行時間過長、記憶體暫存\n",
        "# 空間不足等等問題，因此處理巨量資料時，我們需要做batch分堆的動作，這樣讀資料就不用讀取所有資料，讀取該堆就好\n",
        "BATCH_SIZE = 32\n",
        "train_dataloader = DataLoader(\n",
        "  train_data,                  # 要分堆的資料(有x(圖形)跟y(類別))\n",
        "  batch_size=BATCH_SIZE,            # 分堆總數==>資料總數/分堆大小\n",
        "  shuffle=True                 # 是否打亂後再分堆\n",
        ")\n",
        "\n",
        "test_dataloader = DataLoader(\n",
        "  test_data,\n",
        "  batch_size=BATCH_SIZE,\n",
        "  shuffle=False\n",
        ")\n",
        "\n",
        "train_dataloader, test_dataloader"
      ],
      "metadata": {
        "colab": {
          "base_uri": "https://localhost:8080/"
        },
        "id": "lKPdHod5J_Tn",
        "outputId": "aa4d5cef-86d0-4e82-e514-98b4fef2ba49"
      },
      "execution_count": null,
      "outputs": [
        {
          "output_type": "execute_result",
          "data": {
            "text/plain": [
              "(<torch.utils.data.dataloader.DataLoader at 0x7a6f8343cf40>,\n",
              " <torch.utils.data.dataloader.DataLoader at 0x7a6f834420b0>)"
            ]
          },
          "metadata": {},
          "execution_count": 153
        }
      ]
    },
    {
      "cell_type": "code",
      "source": [
        "# next(iter(所有堆))會取得下一推\n",
        "x_first_batch, y_first_batch = next(iter(train_dataloader))\n",
        "random_idx = random.randint(0, len(x_first_batch)-1)\n",
        "img, label = x_first_batch[random_idx], y_first_batch[random_idx]\n",
        "\n",
        "plt.imshow(img.permute(1, 2, 0))\n",
        "plt.title(class_names[label])"
      ],
      "metadata": {
        "colab": {
          "base_uri": "https://localhost:8080/",
          "height": 469
        },
        "id": "qmy88vCaNMLT",
        "outputId": "3ee0f982-61b3-40aa-f424-91fd403290a2"
      },
      "execution_count": null,
      "outputs": [
        {
          "output_type": "execute_result",
          "data": {
            "text/plain": [
              "Text(0.5, 1.0, 'Sandal')"
            ]
          },
          "metadata": {},
          "execution_count": 154
        },
        {
          "output_type": "display_data",
          "data": {
            "text/plain": [
              "<Figure size 640x480 with 1 Axes>"
            ],
            "image/png": "[encoded data removed]"
          },
          "metadata": {}
        }
      ]
    },
    {
      "cell_type": "code",
      "source": [
        "# flatten攤平，將原本三維(height*width*channel)的特徵壓平成一維\n",
        "# pytorch官網 > Docs > pytorch > torch.nn > Flatten\n",
        "f = nn.Flatten(start_dim=0, end_dim=-1)     # start_dim是開始的維度, end_dim是結束的維度\n",
        "f(x_first_batch[0]).shape"
      ],
      "metadata": {
        "colab": {
          "base_uri": "https://localhost:8080/"
        },
        "id": "Cs-2rT74SIPV",
        "outputId": "e78179fe-682b-4393-d1db-2b760c0c7f34"
      },
      "execution_count": null,
      "outputs": [
        {
          "output_type": "execute_result",
          "data": {
            "text/plain": [
              "torch.Size([784])"
            ]
          },
          "metadata": {},
          "execution_count": 134
        }
      ]
    },
    {
      "cell_type": "code",
      "source": [
        "# 單層類神經網路\n",
        "class ImageClassificationModel(nn.Module):                     # 創建模型類別\n",
        "  def __init__(self, input_shape, output_shape):                #初始化\n",
        "    super().__init__()\n",
        "    self.layer_stack = nn.Sequential(                     # nn.Squentioal可以把類別初始函數包裝在一起\n",
        "      nn.Flatten(start_dim=1, end_dim=-1),                  # 攤平\n",
        "      nn.Linear(in_features=input_shape, out_features=output_shape),              # 輸入端，輸出端\n",
        "#      nn.Softmax(dim=1)                            # 把輸出結果變成機率，利用softmax function\n",
        "                                           # pytorch官網 > Docs > torch.nn > Non-linear Activations (other)\n",
        "    )\n",
        "\n",
        "  def forward(self, x):                             # forward函數\n",
        "    return self.layer_stack(x)                         # return 10個y值"
      ],
      "metadata": {
        "id": "yAztl1p5Uc_b"
      },
      "execution_count": null,
      "outputs": []
    },
    {
      "cell_type": "code",
      "source": [
        "x_first_batch, y_first_batch = next(iter(train_dataloader))\n",
        "x_first_batch.shape, y_first_batch.shape"
      ],
      "metadata": {
        "colab": {
          "base_uri": "https://localhost:8080/"
        },
        "id": "CkRUiSOBfdyw",
        "outputId": "feb120a1-7441-408c-d9d3-42cbf67cca8d"
      },
      "execution_count": null,
      "outputs": [
        {
          "output_type": "execute_result",
          "data": {
            "text/plain": [
              "(torch.Size([32, 1, 28, 28]), torch.Size([32]))"
            ]
          },
          "metadata": {},
          "execution_count": 136
        }
      ]
    },
    {
      "cell_type": "code",
      "source": [
        "# torch.manual_seed(87)\n",
        "model = ImageClassificationModel(28*28, 10)                        # 建模\n",
        "y_pred = model(x_first_batch)\n",
        "y_pred.argmax(dim=1)"
      ],
      "metadata": {
        "colab": {
          "base_uri": "https://localhost:8080/"
        },
        "id": "TUPtdAwyVryZ",
        "outputId": "7004368e-9ab4-4941-aca9-477e79f1fe48"
      },
      "execution_count": null,
      "outputs": [
        {
          "output_type": "execute_result",
          "data": {
            "text/plain": [
              "tensor([2, 3, 3, 0, 0, 9, 3, 5, 3, 3, 5, 0, 5, 5, 9, 5, 3, 5, 0, 2, 2, 5, 0, 5,\n",
              "        3, 3, 5, 0, 9, 2, 5, 5])"
            ]
          },
          "metadata": {},
          "execution_count": 137
        }
      ]
    },
    {
      "cell_type": "code",
      "source": [
        "# cost function, cross entropy\n",
        "# pytorch官網 > Docs > torch.nn > LossFunctions\n",
        "# 注意!pytorch的cross entropy函式本身就會幫我們進行softmax，所以模型裡就不必再做softmax了\n",
        "cost_fn = nn.CrossEntropyLoss()\n",
        "y_pred = model(x_first_batch)\n",
        "cost = cost_fn(y_pred, y_first_batch)\n",
        "print(cost)\n",
        "print(model.state_dict())\n",
        "\n",
        "optimizer = torch.optim.SGD(params=model.parameters(), lr=0.01)\n",
        "optimizer.zero_grad()\n",
        "cost.backward()\n",
        "optimizer.step()\n",
        "\n",
        "y_pred = model(x_first_batch)\n",
        "cost = cost_fn(y_pred, y_first_batch)\n",
        "print(cost)\n",
        "print(model.state_dict())"
      ],
      "metadata": {
        "colab": {
          "base_uri": "https://localhost:8080/"
        },
        "id": "CP9179_JV-w0",
        "outputId": "6f164c92-01c4-4e63-e024-505deb56a736"
      },
      "execution_count": null,
      "outputs": [
        {
          "output_type": "stream",
          "name": "stdout",
          "text": [
            "tensor(2.3362, grad_fn=<NllLossBackward0>)\n",
            "OrderedDict([('layer_stack.1.weight', tensor([[-0.0002,  0.0158,  0.0160,  ..., -0.0004,  0.0070, -0.0354],\n",
            "        [-0.0323,  0.0144, -0.0127,  ...,  0.0072,  0.0071, -0.0241],\n",
            "        [-0.0046,  0.0346,  0.0310,  ..., -0.0131, -0.0208, -0.0025],\n",
            "        ...,\n",
            "        [ 0.0058, -0.0147, -0.0356,  ...,  0.0072,  0.0278,  0.0095],\n",
            "        [-0.0004,  0.0040, -0.0117,  ...,  0.0145,  0.0304, -0.0356],\n",
            "        [-0.0050, -0.0313, -0.0328,  ...,  0.0224,  0.0158,  0.0083]])), ('layer_stack.1.bias', tensor([-0.0256, -0.0242, -0.0208,  0.0016, -0.0108,  0.0144,  0.0319, -0.0200,\n",
            "         0.0293, -0.0290]))])\n",
            "tensor(2.2181, grad_fn=<NllLossBackward0>)\n",
            "OrderedDict([('layer_stack.1.weight', tensor([[-0.0002,  0.0158,  0.0160,  ..., -0.0003,  0.0070, -0.0354],\n",
            "        [-0.0323,  0.0144, -0.0127,  ...,  0.0072,  0.0071, -0.0241],\n",
            "        [-0.0046,  0.0346,  0.0310,  ..., -0.0131, -0.0208, -0.0025],\n",
            "        ...,\n",
            "        [ 0.0058, -0.0147, -0.0356,  ...,  0.0072,  0.0278,  0.0095],\n",
            "        [-0.0004,  0.0040, -0.0117,  ...,  0.0145,  0.0304, -0.0356],\n",
            "        [-0.0050, -0.0313, -0.0328,  ...,  0.0224,  0.0158,  0.0083]])), ('layer_stack.1.bias', tensor([-0.0253, -0.0239, -0.0199,  0.0015, -0.0096,  0.0133,  0.0316, -0.0207,\n",
            "         0.0293, -0.0298]))])\n"
          ]
        }
      ]
    },
    {
      "cell_type": "code",
      "source": [
        "def accuracy_fn(y_pred, y_real):                           # 準確度函數\n",
        "  correct_num = (y_pred==y_real).sum()\n",
        "  acc = correct_num / len(y_real) * 100\n",
        "\n",
        "  return acc"
      ],
      "metadata": {
        "id": "MQVQH_6klX1Y"
      },
      "execution_count": null,
      "outputs": []
    },
    {
      "cell_type": "code",
      "source": [
        "device = \"cuda\" if torch.cuda.is_available() else \"cpu\"\n",
        "model.to(device)                                    # 模型連線到GPU"
      ],
      "metadata": {
        "colab": {
          "base_uri": "https://localhost:8080/"
        },
        "id": "nHBwInqqlYXq",
        "outputId": "1b31a4f2-82ee-4402-cc5f-cc6480101983"
      },
      "execution_count": null,
      "outputs": [
        {
          "output_type": "execute_result",
          "data": {
            "text/plain": [
              "ImageClassificationModel(\n",
              "  (layer_stack): Sequential(\n",
              "    (0): Flatten(start_dim=1, end_dim=-1)\n",
              "    (1): Linear(in_features=784, out_features=10, bias=True)\n",
              "  )\n",
              ")"
            ]
          },
          "metadata": {},
          "execution_count": 140
        }
      ]
    },
    {
      "cell_type": "code",
      "source": [
        "def train_step(dataloader, model, cost_fn, optimizer, accuracy_fn, device):   # 訓練函數\n",
        "  train_cost = 0                                  # 令cost初始為0\n",
        "  train_acc = 0                                  # 令acc初始為0\n",
        "  for batch, (x, y) in enumerate(dataloader):                  # 跑過所有的Batch\n",
        "    x = x.to(device)                               # x連線到GPU\n",
        "    y = y.to(device)                               # y連線到GPU\n",
        "\n",
        "    model.train()\n",
        "\n",
        "    y_pred = model(x)\n",
        "\n",
        "    cost = cost_fn(y_pred, y)\n",
        "\n",
        "    train_cost += cost                              # 累加cost\n",
        "    train_acc += accuracy_fn(y_pred.argmax(dim=1), y)              # 累加acc\n",
        "\n",
        "    optimizer.zero_grad()\n",
        "\n",
        "    cost.backward()\n",
        "\n",
        "    optimizer.step()\n",
        "\n",
        "  train_cost /= len(train_dataloader)                       # 計算平均cost\n",
        "  train_acc /= len(train_dataloader)                        # 計算平均acc\n",
        "\n",
        "  print(f\"\\nTrain Cost: {train_cost:.4f}, Train Acc: {train_acc:.2f}\")\n",
        "\n",
        "\n",
        "def test_step(dataloader, model, cost_fn, accuracy_fn, device):          # 測試模型\n",
        "  test_cost = 0                                  # 令cost初始為0\n",
        "  test_acc = 0                                   # 令acc初始為0\n",
        "  model.eval()\n",
        "  with torch.inference_mode():\n",
        "    for x, y in dataloader:                           # 跑過所有的Batch\n",
        "      x = x.to(device)                             # x連線到GPU\n",
        "      y = y.to(device)                             # y連線到GPU\n",
        "\n",
        "      test_pred = model(x)\n",
        "\n",
        "      test_cost += cost_fn(test_pred, y)                   # 累加cost\n",
        "      test_acc += accuracy_fn(test_pred.argmax(dim=1), y)           # 累加acc\n",
        "\n",
        "    test_cost /= len(test_dataloader)                      # 計算平均cost\n",
        "    test_acc /= len(test_dataloader)                       # 計算平均acc\n",
        "\n",
        "  print(f\"Test Cost: {test_cost:.4f}, Test Acc: {test_acc:.2f} \\n\")"
      ],
      "metadata": {
        "id": "It8ig8O6ldxN"
      },
      "execution_count": null,
      "outputs": []
    },
    {
      "cell_type": "code",
      "source": [
        "from tqdm.auto import tqdm                             # 顯示進度條\n",
        "\n",
        "epochs = 10                                     # 訓練次數\n",
        "\n",
        "for epoch in tqdm(range(epochs)):                          # 顯示進度條\n",
        "  print(f\"Epoch: {epoch}\\n-------\")\n",
        "\n",
        "  train_step(train_dataloader, model, cost_fn, optimizer, accuracy_fn, device)\n",
        "\n",
        "  test_step(test_dataloader, model, cost_fn, accuracy_fn, device)"
      ],
      "metadata": {
        "id": "13XlihwtmNoK",
        "colab": {
          "base_uri": "https://localhost:8080/",
          "height": 1000,
          "referenced_widgets": [
            "009d66c91c9243279888ee9f55817a07",
            "e3deb1c4cc5e4b709d60d9bf9b46e0e9",
            "4d2544a4029c40a2adec6aa81d771878",
            "47b35095b82c47df9e23d23776ca2fc9",
            "1e1f42e27b5b487aacc98835ac6c6714",
            "5f691104a54a41568acd9e00d31f0792",
            "6e0982c5864843b5a4d90bcfef40ca07",
            "61b79e8a36304a758abdad9f0305f10e",
            "b1a206f9fde34baeb414db9e63b0bca3",
            "537459fae99b4b338d102c3fd7f5ee18",
            "e213cca7def44835ab3b7d507d0f691c"
          ]
        },
        "outputId": "b58b465e-06e3-436b-a7d8-de8ed6a5c52c"
      },
      "execution_count": null,
      "outputs": [
        {
          "output_type": "display_data",
          "data": {
            "text/plain": [
              "  0%|          | 0/10 [00:00<?, ?it/s]"
            ],
            "application/vnd.jupyter.widget-view+json": {
              "version_major": 2,
              "version_minor": 0,
              "model_id": "009d66c91c9243279888ee9f55817a07"
            }
          },
          "metadata": {}
        },
        {
          "output_type": "stream",
          "name": "stdout",
          "text": [
            "Epoch: 0\n",
            "-------\n",
            "\n",
            "Train Cost: 0.8138, Train Acc: 74.88\n",
            "Test Cost: 0.6523, Test Acc: 78.20 \n",
            "\n",
            "Epoch: 1\n",
            "-------\n",
            "\n",
            "Train Cost: 0.5879, Train Acc: 81.13\n",
            "Test Cost: 0.5809, Test Acc: 80.82 \n",
            "\n",
            "Epoch: 2\n",
            "-------\n",
            "\n",
            "Train Cost: 0.5390, Train Acc: 82.36\n",
            "Test Cost: 0.5467, Test Acc: 81.76 \n",
            "\n",
            "Epoch: 3\n",
            "-------\n",
            "\n",
            "Train Cost: 0.5129, Train Acc: 83.00\n",
            "Test Cost: 0.5291, Test Acc: 82.12 \n",
            "\n",
            "Epoch: 4\n",
            "-------\n",
            "\n",
            "Train Cost: 0.4961, Train Acc: 83.47\n",
            "Test Cost: 0.5171, Test Acc: 82.45 \n",
            "\n",
            "Epoch: 5\n",
            "-------\n",
            "\n",
            "Train Cost: 0.4834, Train Acc: 83.87\n",
            "Test Cost: 0.5065, Test Acc: 82.69 \n",
            "\n",
            "Epoch: 6\n",
            "-------\n",
            "\n",
            "Train Cost: 0.4740, Train Acc: 84.10\n",
            "Test Cost: 0.4990, Test Acc: 83.02 \n",
            "\n",
            "Epoch: 7\n",
            "-------\n",
            "\n",
            "Train Cost: 0.4661, Train Acc: 84.32\n",
            "Test Cost: 0.4995, Test Acc: 82.54 \n",
            "\n",
            "Epoch: 8\n",
            "-------\n",
            "\n",
            "Train Cost: 0.4603, Train Acc: 84.48\n",
            "Test Cost: 0.4884, Test Acc: 83.25 \n",
            "\n",
            "Epoch: 9\n",
            "-------\n",
            "\n",
            "Train Cost: 0.4548, Train Acc: 84.69\n",
            "Test Cost: 0.4867, Test Acc: 82.87 \n",
            "\n"
          ]
        }
      ]
    },
    {
      "cell_type": "code",
      "source": [
        "# 多層類神經網路\n",
        "class ImageClassificationModel2(nn.Module):                    # 創建模型類別\n",
        "  def __init__(self, input_shape, output_shape):                #初始化\n",
        "    super().__init__()\n",
        "    self.layer_stack = nn.Sequential(                     #nn.Squentioal可以把類別初始函數包裝在一起\n",
        "      nn.Flatten(start_dim=1, end_dim=-1),                  # 攤平\n",
        "      nn.Linear(in_features=input_shape, out_features=5),           # 第一層， output=5         # 後一層input一等於前一層output\n",
        "      nn.ReLU(),                                # 激活隱藏層函數\n",
        "      nn.Linear(in_features=5, out_features=8),                # 第二層， output=8\n",
        "      nn.ReLU(),                                # 激活隱藏層函數\n",
        "      nn.Linear(in_features=8, out_features=output_shape),           # 第三層， output=輸出端\n",
        "    )\n",
        "\n",
        "  def forward(self, x):                             # forward函數\n",
        "    return self.layer_stack(x)"
      ],
      "metadata": {
        "id": "ZPUrP-kmoo8o"
      },
      "execution_count": null,
      "outputs": []
    },
    {
      "cell_type": "code",
      "source": [
        "model_2 = ImageClassificationModel2(28*28, 10)\n",
        "model_2.to(device)\n",
        "cost_fn = nn.CrossEntropyLoss()\n",
        "optimizer = torch.optim.SGD(params=model_2.parameters(), lr=0.01)"
      ],
      "metadata": {
        "id": "H-j7aA743kSY"
      },
      "execution_count": null,
      "outputs": []
    },
    {
      "cell_type": "code",
      "source": [
        "epochs = 10\n",
        "\n",
        "for epoch in tqdm(range(epochs)):\n",
        "  print(f\"Epoch: {epoch}\\n-------\")\n",
        "\n",
        "  train_step(train_dataloader, model_2, cost_fn, optimizer, accuracy_fn, device)\n",
        "\n",
        "  test_step(test_dataloader, model_2, cost_fn, accuracy_fn, device)"
      ],
      "metadata": {
        "colab": {
          "base_uri": "https://localhost:8080/",
          "height": 1000,
          "referenced_widgets": [
            "abd088fa3486466da3bf75392b317404",
            "6c3ccc3c30c44966a22f63bed4c6d080",
            "2d7499335cfd4a8cad44b21873a73968",
            "4cc61d926ba0492c811dd403e8f5267c",
            "877621de525b4e8ea01dc4332203f3a9",
            "d2a35e1f546c455297c074dbd6f1f3b6",
            "63b8429b8721493fb577fa69d7c0fa7d",
            "c65dc1c82a3c49ac8f8347b4a9699b0d",
            "c41990c1d90d4cffb7df6eee3aa6d68d",
            "f25d2b3554694ee88c2420abfdc48f6e",
            "413a3871409b4c358e87e2cb8c958cbb"
          ]
        },
        "id": "3DVk8uIW33k0",
        "outputId": "748b4850-ed81-4d5e-cd47-fe9504cb6e4c"
      },
      "execution_count": null,
      "outputs": [
        {
          "output_type": "display_data",
          "data": {
            "text/plain": [
              "  0%|          | 0/10 [00:00<?, ?it/s]"
            ],
            "application/vnd.jupyter.widget-view+json": {
              "version_major": 2,
              "version_minor": 0,
              "model_id": "abd088fa3486466da3bf75392b317404"
            }
          },
          "metadata": {}
        },
        {
          "output_type": "stream",
          "name": "stdout",
          "text": [
            "Epoch: 0\n",
            "-------\n",
            "\n",
            "Train Cost: 1.3764, Train Acc: 47.27\n",
            "Test Cost: 0.8585, Test Acc: 66.67 \n",
            "\n",
            "Epoch: 1\n",
            "-------\n",
            "\n",
            "Train Cost: 0.7447, Train Acc: 72.03\n",
            "Test Cost: 0.7253, Test Acc: 72.59 \n",
            "\n",
            "Epoch: 2\n",
            "-------\n",
            "\n",
            "Train Cost: 0.6575, Train Acc: 76.19\n",
            "Test Cost: 0.6412, Test Acc: 76.91 \n",
            "\n",
            "Epoch: 3\n",
            "-------\n",
            "\n",
            "Train Cost: 0.6088, Train Acc: 78.39\n",
            "Test Cost: 0.6153, Test Acc: 77.89 \n",
            "\n",
            "Epoch: 4\n",
            "-------\n",
            "\n",
            "Train Cost: 0.5770, Train Acc: 79.65\n",
            "Test Cost: 0.5884, Test Acc: 79.35 \n",
            "\n",
            "Epoch: 5\n",
            "-------\n",
            "\n",
            "Train Cost: 0.5577, Train Acc: 80.54\n",
            "Test Cost: 0.5790, Test Acc: 79.85 \n",
            "\n",
            "Epoch: 6\n",
            "-------\n",
            "\n",
            "Train Cost: 0.5413, Train Acc: 81.23\n",
            "Test Cost: 0.5615, Test Acc: 80.68 \n",
            "\n",
            "Epoch: 7\n",
            "-------\n",
            "\n",
            "Train Cost: 0.5292, Train Acc: 81.56\n",
            "Test Cost: 0.5468, Test Acc: 81.17 \n",
            "\n",
            "Epoch: 8\n",
            "-------\n",
            "\n",
            "Train Cost: 0.5177, Train Acc: 81.98\n",
            "Test Cost: 0.5453, Test Acc: 80.54 \n",
            "\n",
            "Epoch: 9\n",
            "-------\n",
            "\n",
            "Train Cost: 0.5059, Train Acc: 82.38\n",
            "Test Cost: 0.5361, Test Acc: 81.44 \n",
            "\n"
          ]
        }
      ]
    },
    {
      "cell_type": "code",
      "source": [
        "# 評估哪個模型比較好\n",
        "def eval_model(dataloader, model, cost_fn, accuracy_fn, device):\n",
        "  test_cost = 0\n",
        "  test_acc = 0\n",
        "  model.eval()\n",
        "  with torch.inference_mode():\n",
        "    for x, y in dataloader:\n",
        "      x = x.to(device)\n",
        "      y = y.to(device)\n",
        "\n",
        "      test_pred = model(x)\n",
        "\n",
        "      test_cost += cost_fn(test_pred, y)\n",
        "      test_acc += accuracy_fn(test_pred.argmax(dim=1), y)\n",
        "\n",
        "    test_cost /= len(test_dataloader)\n",
        "    test_acc /= len(test_dataloader)\n",
        "\n",
        "  return {\n",
        "      \"model_name\": model.__class__.__name__,             # 取得模型的名字\n",
        "      \"model_cost\": test_cost.item(),                 # .item()只取得tensor的數字\n",
        "      \"model_acc\": test_acc.item()\n",
        "  }"
      ],
      "metadata": {
        "id": "DD9iLmTk8JQj"
      },
      "execution_count": null,
      "outputs": []
    },
    {
      "cell_type": "code",
      "source": [
        "model_1_result = eval_model(test_dataloader, model, cost_fn, accuracy_fn, device)\n",
        "model_2_result = eval_model(test_dataloader, model_2, cost_fn, accuracy_fn, device)\n",
        "model_1_result, model_2_result"
      ],
      "metadata": {
        "colab": {
          "base_uri": "https://localhost:8080/"
        },
        "id": "taDeAslv9GnU",
        "outputId": "ca2ce3d7-6c53-484c-f35b-de75adad74dd"
      },
      "execution_count": null,
      "outputs": [
        {
          "output_type": "execute_result",
          "data": {
            "text/plain": [
              "({'model_name': 'ImageClassificationModel',\n",
              "  'model_cost': 0.48674795031547546,\n",
              "  'model_acc': 82.8674087524414},\n",
              " {'model_name': 'ImageClassificationModel2',\n",
              "  'model_cost': 0.5361374020576477,\n",
              "  'model_acc': 81.439697265625})"
            ]
          },
          "metadata": {},
          "execution_count": 150
        }
      ]
    }
  ]
}