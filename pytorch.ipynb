{
  "nbformat": 4,
  "nbformat_minor": 0,
  "metadata": {
    "colab": {
      "provenance": [],
      "gpuType": "T4",
      "authorship_tag": "ABX9TyMuQCkI0ClIB8NaYZAOHCr8",
      "include_colab_link": true
    },
    "kernelspec": {
      "name": "python3",
      "display_name": "Python 3"
    },
    "language_info": {
      "name": "python"
    },
    "accelerator": "GPU"
  },
  "cells": [
    {
      "cell_type": "markdown",
      "metadata": {
        "id": "view-in-github",
        "colab_type": "text"
      },
      "source": [
        "<a href=\"https://colab.research.google.com/github/BernieT7/ML/blob/main/pytorch.ipynb\" target=\"_parent\"><img src=\"https://colab.research.google.com/assets/colab-badge.svg\" alt=\"Open In Colab\"/></a>"
      ]
    },
    {
      "cell_type": "code",
      "source": [
        "import pandas as pd\n",
        "\n",
        "url = \"https://raw.githubusercontent.com/GrandmaCan/ML/main/Resgression/Salary_Data.csv\"\n",
        "data = pd.read_csv(url)\n",
        "\n",
        "x = data[\"YearsExperience\"]\n",
        "y = data[\"Salary\"]"
      ],
      "metadata": {
        "id": "0yAVVJGQLCny"
      },
      "execution_count": null,
      "outputs": []
    },
    {
      "cell_type": "code",
      "source": [
        "from sklearn.model_selection import train_test_split\n",
        "import torch\n",
        "\n",
        "x_train, x_test, y_train, y_test = train_test_split(x, y, test_size=0.2, random_state=87)\n",
        "x_train = x_train.to_numpy()\n",
        "x_test = x_test.to_numpy()\n",
        "y_train = y_train.to_numpy()\n",
        "y_test = y_test.to_numpy()\n",
        "\n",
        "x_train = torch.from_numpy(x_train)\n",
        "x_test = torch.from_numpy(x_test)\n",
        "y_train = torch.from_numpy(y_train)\n",
        "y_test = torch.from_numpy(y_test)\n",
        "\n",
        "y_train, y_test"
      ],
      "metadata": {
        "colab": {
          "base_uri": "https://localhost:8080/"
        },
        "id": "flx0hofNNcZ9",
        "outputId": "59f0496a-da8c-4c35-e048-8b814d5b9008"
      },
      "execution_count": null,
      "outputs": [
        {
          "output_type": "execute_result",
          "data": {
            "text/plain": [
              "(tensor([ 91.7000,  57.0000,  98.2000,  42.8000,  64.4000, 116.9000,  37.7000,\n",
              "          39.8000,  61.1000,  67.9000,  83.0000,  39.3000, 113.8000,  56.6000,\n",
              "          54.4000,  55.7000, 101.3000,  60.1000,  36.2000,  66.0000, 105.5000,\n",
              "          43.5000, 122.3000,  56.9000, 109.4000,  63.2000], dtype=torch.float64),\n",
              " tensor([ 93.9000, 121.8000,  36.6000,  81.3000, 112.6000,  57.1000,  46.2000],\n",
              "        dtype=torch.float64))"
            ]
          },
          "metadata": {},
          "execution_count": 23
        }
      ]
    },
    {
      "cell_type": "code",
      "source": [
        "from torch import nn\n",
        "\n",
        "class LinearRegressionModel(nn.Module):\n",
        "  def __init__(self):\n",
        "    super().__init__()\n",
        "    self.w = nn.Parameter(torch.rand(1, requires_grad=True))\n",
        "    self.b = nn.Parameter(torch.rand(1, requires_grad=True))\n",
        "\n",
        "  def forward(self, x):\n",
        "    return self.w*x + self.b"
      ],
      "metadata": {
        "id": "-gBNPbllbCXc"
      },
      "execution_count": null,
      "outputs": []
    },
    {
      "cell_type": "code",
      "source": [
        "torch.manual_seed(77)\n",
        "model = LinearRegressionModel()"
      ],
      "metadata": {
        "id": "x1vIsaTRbwH6"
      },
      "execution_count": null,
      "outputs": []
    },
    {
      "cell_type": "code",
      "source": [
        "cost_fn = nn.MSELoss()\n",
        "y_pred = model(x_train)\n",
        "cost = cost_fn(y_pred, y_train)\n",
        "\n",
        "optimizer = torch.optim.SGD(params=model.parameters(), lr=0.001)\n",
        "optimizer.zero_grad()\n",
        "cost.backward()\n",
        "optimizer.step()"
      ],
      "metadata": {
        "id": "IfngM84cdzr2"
      },
      "execution_count": null,
      "outputs": []
    },
    {
      "cell_type": "code",
      "source": [
        "epochs = 1000\n",
        "\n",
        "train_cost_hist = []\n",
        "test_cost_hist = []\n",
        "\n",
        "for epoch in range(epochs):\n",
        "  model.train()\n",
        "\n",
        "  y_pred = model(x_train)\n",
        "  train_cost = cost_fn(y_pred, y_train)\n",
        "\n",
        "  optimizer.zero_grad()\n",
        "\n",
        "  train_cost.backward()\n",
        "\n",
        "  optimizer.step()\n",
        "\n",
        "  train_cost_hist.append(train_cost.detach().numpy())\n",
        "\n",
        "  model.eval()\n",
        "  with torch.inference_mode():\n",
        "    test_pred = model(x_test)\n",
        "    test_cost = cost_fn(test_pred, y_test)\n",
        "    test_cost_hist.append(test_cost)\n",
        "\n",
        "  if epoch % 10 == 0:\n",
        "    print(f\"Epoch: {epoch:5}, Train Cost: {train_cost: 2e}, Test Cost: {test_cost: 2e}\")"
      ],
      "metadata": {
        "colab": {
          "base_uri": "https://localhost:8080/"
        },
        "id": "m4ViA-ZheVpN",
        "outputId": "e595df73-a407-473e-9345-f95b6aa717df"
      },
      "execution_count": null,
      "outputs": [
        {
          "output_type": "stream",
          "name": "stdout",
          "text": [
            "Epoch:     0, Train Cost:  4.838592e+03, Test Cost:  5.213207e+03\n",
            "Epoch:    10, Train Cost:  1.465325e+03, Test Cost:  1.514587e+03\n",
            "Epoch:    20, Train Cost:  5.356599e+02, Test Cost:  5.650931e+02\n",
            "Epoch:    30, Train Cost:  2.786543e+02, Test Cost:  3.387377e+02\n",
            "Epoch:    40, Train Cost:  2.068220e+02, Test Cost:  2.939029e+02\n",
            "Epoch:    50, Train Cost:  1.859734e+02, Test Cost:  2.898881e+02\n",
            "Epoch:    60, Train Cost:  1.791698e+02, Test Cost:  2.923424e+02\n",
            "Epoch:    70, Train Cost:  1.762431e+02, Test Cost:  2.940961e+02\n",
            "Epoch:    80, Train Cost:  1.743942e+02, Test Cost:  2.943688e+02\n",
            "Epoch:    90, Train Cost:  1.728526e+02, Test Cost:  2.935685e+02\n",
            "Epoch:   100, Train Cost:  1.714060e+02, Test Cost:  2.921326e+02\n",
            "Epoch:   110, Train Cost:  1.699958e+02, Test Cost:  2.903510e+02\n",
            "Epoch:   120, Train Cost:  1.686060e+02, Test Cost:  2.883920e+02\n",
            "Epoch:   130, Train Cost:  1.672318e+02, Test Cost:  2.863481e+02\n",
            "Epoch:   140, Train Cost:  1.658719e+02, Test Cost:  2.842687e+02\n",
            "Epoch:   150, Train Cost:  1.645259e+02, Test Cost:  2.821799e+02\n",
            "Epoch:   160, Train Cost:  1.631935e+02, Test Cost:  2.800952e+02\n",
            "Epoch:   170, Train Cost:  1.618746e+02, Test Cost:  2.780219e+02\n",
            "Epoch:   180, Train Cost:  1.605690e+02, Test Cost:  2.759634e+02\n",
            "Epoch:   190, Train Cost:  1.592766e+02, Test Cost:  2.739215e+02\n",
            "Epoch:   200, Train Cost:  1.579973e+02, Test Cost:  2.718971e+02\n",
            "Epoch:   210, Train Cost:  1.567309e+02, Test Cost:  2.698906e+02\n",
            "Epoch:   220, Train Cost:  1.554772e+02, Test Cost:  2.679021e+02\n",
            "Epoch:   230, Train Cost:  1.542362e+02, Test Cost:  2.659315e+02\n",
            "Epoch:   240, Train Cost:  1.530078e+02, Test Cost:  2.639788e+02\n",
            "Epoch:   250, Train Cost:  1.517918e+02, Test Cost:  2.620438e+02\n",
            "Epoch:   260, Train Cost:  1.505880e+02, Test Cost:  2.601263e+02\n",
            "Epoch:   270, Train Cost:  1.493964e+02, Test Cost:  2.582263e+02\n",
            "Epoch:   280, Train Cost:  1.482168e+02, Test Cost:  2.563435e+02\n",
            "Epoch:   290, Train Cost:  1.470492e+02, Test Cost:  2.544778e+02\n",
            "Epoch:   300, Train Cost:  1.458933e+02, Test Cost:  2.526290e+02\n",
            "Epoch:   310, Train Cost:  1.447491e+02, Test Cost:  2.507971e+02\n",
            "Epoch:   320, Train Cost:  1.436165e+02, Test Cost:  2.489817e+02\n",
            "Epoch:   330, Train Cost:  1.424953e+02, Test Cost:  2.471827e+02\n",
            "Epoch:   340, Train Cost:  1.413854e+02, Test Cost:  2.454000e+02\n",
            "Epoch:   350, Train Cost:  1.402867e+02, Test Cost:  2.436335e+02\n",
            "Epoch:   360, Train Cost:  1.391991e+02, Test Cost:  2.418829e+02\n",
            "Epoch:   370, Train Cost:  1.381225e+02, Test Cost:  2.401482e+02\n",
            "Epoch:   380, Train Cost:  1.370568e+02, Test Cost:  2.384292e+02\n",
            "Epoch:   390, Train Cost:  1.360018e+02, Test Cost:  2.367257e+02\n",
            "Epoch:   400, Train Cost:  1.349575e+02, Test Cost:  2.350376e+02\n",
            "Epoch:   410, Train Cost:  1.339238e+02, Test Cost:  2.333648e+02\n",
            "Epoch:   420, Train Cost:  1.329005e+02, Test Cost:  2.317070e+02\n",
            "Epoch:   430, Train Cost:  1.318875e+02, Test Cost:  2.300641e+02\n",
            "Epoch:   440, Train Cost:  1.308847e+02, Test Cost:  2.284362e+02\n",
            "Epoch:   450, Train Cost:  1.298921e+02, Test Cost:  2.268228e+02\n",
            "Epoch:   460, Train Cost:  1.289095e+02, Test Cost:  2.252240e+02\n",
            "Epoch:   470, Train Cost:  1.279368e+02, Test Cost:  2.236396e+02\n",
            "Epoch:   480, Train Cost:  1.269740e+02, Test Cost:  2.220694e+02\n",
            "Epoch:   490, Train Cost:  1.260209e+02, Test Cost:  2.205134e+02\n",
            "Epoch:   500, Train Cost:  1.250774e+02, Test Cost:  2.189713e+02\n",
            "Epoch:   510, Train Cost:  1.241434e+02, Test Cost:  2.174431e+02\n",
            "Epoch:   520, Train Cost:  1.232188e+02, Test Cost:  2.159286e+02\n",
            "Epoch:   530, Train Cost:  1.223036e+02, Test Cost:  2.144278e+02\n",
            "Epoch:   540, Train Cost:  1.213977e+02, Test Cost:  2.129404e+02\n",
            "Epoch:   550, Train Cost:  1.205009e+02, Test Cost:  2.114663e+02\n",
            "Epoch:   560, Train Cost:  1.196131e+02, Test Cost:  2.100054e+02\n",
            "Epoch:   570, Train Cost:  1.187343e+02, Test Cost:  2.085576e+02\n",
            "Epoch:   580, Train Cost:  1.178644e+02, Test Cost:  2.071228e+02\n",
            "Epoch:   590, Train Cost:  1.170033e+02, Test Cost:  2.057008e+02\n",
            "Epoch:   600, Train Cost:  1.161509e+02, Test Cost:  2.042916e+02\n",
            "Epoch:   610, Train Cost:  1.153070e+02, Test Cost:  2.028949e+02\n",
            "Epoch:   620, Train Cost:  1.144717e+02, Test Cost:  2.015106e+02\n",
            "Epoch:   630, Train Cost:  1.136448e+02, Test Cost:  2.001388e+02\n",
            "Epoch:   640, Train Cost:  1.128263e+02, Test Cost:  1.987792e+02\n",
            "Epoch:   650, Train Cost:  1.120161e+02, Test Cost:  1.974317e+02\n",
            "Epoch:   660, Train Cost:  1.112140e+02, Test Cost:  1.960963e+02\n",
            "Epoch:   670, Train Cost:  1.104200e+02, Test Cost:  1.947727e+02\n",
            "Epoch:   680, Train Cost:  1.096340e+02, Test Cost:  1.934609e+02\n",
            "Epoch:   690, Train Cost:  1.088560e+02, Test Cost:  1.921609e+02\n",
            "Epoch:   700, Train Cost:  1.080859e+02, Test Cost:  1.908724e+02\n",
            "Epoch:   710, Train Cost:  1.073235e+02, Test Cost:  1.895953e+02\n",
            "Epoch:   720, Train Cost:  1.065688e+02, Test Cost:  1.883296e+02\n",
            "Epoch:   730, Train Cost:  1.058217e+02, Test Cost:  1.870751e+02\n",
            "Epoch:   740, Train Cost:  1.050822e+02, Test Cost:  1.858318e+02\n",
            "Epoch:   750, Train Cost:  1.043502e+02, Test Cost:  1.845995e+02\n",
            "Epoch:   760, Train Cost:  1.036255e+02, Test Cost:  1.833782e+02\n",
            "Epoch:   770, Train Cost:  1.029082e+02, Test Cost:  1.821677e+02\n",
            "Epoch:   780, Train Cost:  1.021981e+02, Test Cost:  1.809678e+02\n",
            "Epoch:   790, Train Cost:  1.014952e+02, Test Cost:  1.797787e+02\n",
            "Epoch:   800, Train Cost:  1.007994e+02, Test Cost:  1.786000e+02\n",
            "Epoch:   810, Train Cost:  1.001106e+02, Test Cost:  1.774318e+02\n",
            "Epoch:   820, Train Cost:  9.942873e+01, Test Cost:  1.762739e+02\n",
            "Epoch:   830, Train Cost:  9.875378e+01, Test Cost:  1.751262e+02\n",
            "Epoch:   840, Train Cost:  9.808564e+01, Test Cost:  1.739887e+02\n",
            "Epoch:   850, Train Cost:  9.742426e+01, Test Cost:  1.728613e+02\n",
            "Epoch:   860, Train Cost:  9.676954e+01, Test Cost:  1.717437e+02\n",
            "Epoch:   870, Train Cost:  9.612144e+01, Test Cost:  1.706360e+02\n",
            "Epoch:   880, Train Cost:  9.547988e+01, Test Cost:  1.695381e+02\n",
            "Epoch:   890, Train Cost:  9.484480e+01, Test Cost:  1.684498e+02\n",
            "Epoch:   900, Train Cost:  9.421613e+01, Test Cost:  1.673711e+02\n",
            "Epoch:   910, Train Cost:  9.359383e+01, Test Cost:  1.663019e+02\n",
            "Epoch:   920, Train Cost:  9.297780e+01, Test Cost:  1.652421e+02\n",
            "Epoch:   930, Train Cost:  9.236799e+01, Test Cost:  1.641916e+02\n",
            "Epoch:   940, Train Cost:  9.176434e+01, Test Cost:  1.631504e+02\n",
            "Epoch:   950, Train Cost:  9.116679e+01, Test Cost:  1.621183e+02\n",
            "Epoch:   960, Train Cost:  9.057527e+01, Test Cost:  1.610953e+02\n",
            "Epoch:   970, Train Cost:  8.998971e+01, Test Cost:  1.600812e+02\n",
            "Epoch:   980, Train Cost:  8.941011e+01, Test Cost:  1.590760e+02\n",
            "Epoch:   990, Train Cost:  8.883633e+01, Test Cost:  1.580796e+02\n"
          ]
        }
      ]
    },
    {
      "cell_type": "code",
      "source": [
        "import matplotlib.pyplot as plt\n",
        "\n",
        "plt.plot(range(0, 1000), train_cost_hist, label=\"train cost\")\n",
        "plt.plot(range(0, 1000), test_cost_hist, label=\"test cost\")\n",
        "plt.title(\"train v.s. test cost\")\n",
        "plt.xlabel(\"epochs\")\n",
        "plt.ylabel(\"cost\")\n",
        "plt.legend()\n",
        "plt.show"
      ],
      "metadata": {
        "colab": {
          "base_uri": "https://localhost:8080/",
          "height": 641
        },
        "id": "LI4LKGTfkUzu",
        "outputId": "ff5250b7-9c1f-4b62-d6c7-78077a2ecdbf"
      },
      "execution_count": null,
      "outputs": [
        {
          "output_type": "execute_result",
          "data": {
            "text/plain": [
              "<function matplotlib.pyplot.show(close=None, block=None)>"
            ],
            "text/html": [
              "<div style=\"max-width:800px; border: 1px solid var(--colab-border-color);\"><style>\n",
              "      pre.function-repr-contents {\n",
              "        overflow-x: auto;\n",
              "        padding: 8px 12px;\n",
              "        max-height: 500px;\n",
              "      }\n",
              "\n",
              "      pre.function-repr-contents.function-repr-contents-collapsed {\n",
              "        cursor: pointer;\n",
              "        max-height: 100px;\n",
              "      }\n",
              "    </style>\n",
              "    <pre style=\"white-space: initial; background:\n",
              "         var(--colab-secondary-surface-color); padding: 8px 12px;\n",
              "         border-bottom: 1px solid var(--colab-border-color);\"><b>matplotlib.pyplot.show</b><br/>def show(*args, **kwargs)</pre><pre class=\"function-repr-contents function-repr-contents-collapsed\" style=\"\"><a class=\"filepath\" style=\"display:none\" href=\"#\">/usr/local/lib/python3.10/dist-packages/matplotlib/pyplot.py</a>Display all open figures.\n",
              "\n",
              "Parameters\n",
              "----------\n",
              "block : bool, optional\n",
              "    Whether to wait for all figures to be closed before returning.\n",
              "\n",
              "    If `True` block and run the GUI main loop until all figure windows\n",
              "    are closed.\n",
              "\n",
              "    If `False` ensure that all figure windows are displayed and return\n",
              "    immediately.  In this case, you are responsible for ensuring\n",
              "    that the event loop is running to have responsive figures.\n",
              "\n",
              "    Defaults to True in non-interactive mode and to False in interactive\n",
              "    mode (see `.pyplot.isinteractive`).\n",
              "\n",
              "See Also\n",
              "--------\n",
              "ion : Enable interactive mode, which shows / updates the figure after\n",
              "      every plotting command, so that calling ``show()`` is not necessary.\n",
              "ioff : Disable interactive mode.\n",
              "savefig : Save the figure to an image file instead of showing it on screen.\n",
              "\n",
              "Notes\n",
              "-----\n",
              "**Saving figures to file and showing a window at the same time**\n",
              "\n",
              "If you want an image file as well as a user interface window, use\n",
              "`.pyplot.savefig` before `.pyplot.show`. At the end of (a blocking)\n",
              "``show()`` the figure is closed and thus unregistered from pyplot. Calling\n",
              "`.pyplot.savefig` afterwards would save a new and thus empty figure. This\n",
              "limitation of command order does not apply if the show is non-blocking or\n",
              "if you keep a reference to the figure and use `.Figure.savefig`.\n",
              "\n",
              "**Auto-show in jupyter notebooks**\n",
              "\n",
              "The jupyter backends (activated via ``%matplotlib inline``,\n",
              "``%matplotlib notebook``, or ``%matplotlib widget``), call ``show()`` at\n",
              "the end of every cell by default. Thus, you usually don&#x27;t have to call it\n",
              "explicitly there.</pre>\n",
              "      <script>\n",
              "      if (google.colab.kernel.accessAllowed && google.colab.files && google.colab.files.view) {\n",
              "        for (const element of document.querySelectorAll('.filepath')) {\n",
              "          element.style.display = 'block'\n",
              "          element.onclick = (event) => {\n",
              "            event.preventDefault();\n",
              "            event.stopPropagation();\n",
              "            google.colab.files.view(element.textContent, 401);\n",
              "          };\n",
              "        }\n",
              "      }\n",
              "      for (const element of document.querySelectorAll('.function-repr-contents')) {\n",
              "        element.onclick = (event) => {\n",
              "          event.preventDefault();\n",
              "          event.stopPropagation();\n",
              "          element.classList.toggle('function-repr-contents-collapsed');\n",
              "        };\n",
              "      }\n",
              "      </script>\n",
              "      </div>"
            ]
          },
          "metadata": {},
          "execution_count": 28
        },
        {
          "output_type": "display_data",
          "data": {
            "text/plain": [
              "<Figure size 640x480 with 1 Axes>"
            ],
            "image/png": "[encoded data removed]"
          },
          "metadata": {}
        }
      ]
    },
    {
      "cell_type": "code",
      "source": [
        "torch.save(obj=model.state_dict(), f=\"model/linear_regression.pth\")"
      ],
      "metadata": {
        "id": "n9yuanYfmuD-"
      },
      "execution_count": null,
      "outputs": []
    },
    {
      "cell_type": "code",
      "source": [
        "model_load = LinearRegressionModel()\n",
        "model_load.load_state_dict(torch.load(f=\"model/linear_regression.pth\"))\n",
        "model_load.state_dict()"
      ],
      "metadata": {
        "colab": {
          "base_uri": "https://localhost:8080/"
        },
        "id": "0g0m5ss7rvPY",
        "outputId": "89d15e5f-1a6e-46f2-e887-725505e0d1de"
      },
      "execution_count": null,
      "outputs": [
        {
          "output_type": "execute_result",
          "data": {
            "text/plain": [
              "OrderedDict([('w', tensor([11.6301])), ('b', tensor([11.9943]))])"
            ]
          },
          "metadata": {},
          "execution_count": 30
        }
      ]
    },
    {
      "cell_type": "code",
      "source": [
        "class LinearRegressionModel2(nn.Module):\n",
        "  def __init__(self):\n",
        "    super().__init__()\n",
        "    self.linear_layer = nn.Linear(in_features=1, out_features=1, dtype=torch.float64)\n",
        "\n",
        "  def forward(self, x):\n",
        "    return self.linear_layer(x)"
      ],
      "metadata": {
        "id": "c-VxCh5Btirl"
      },
      "execution_count": null,
      "outputs": []
    },
    {
      "cell_type": "code",
      "source": [
        "torch.manual_seed(87)\n",
        "model_2 = LinearRegressionModel2()\n",
        "model_2, model_2.state_dict()"
      ],
      "metadata": {
        "colab": {
          "base_uri": "https://localhost:8080/"
        },
        "id": "CnwcxJd_t0vO",
        "outputId": "7fca3587-b940-443f-8422-ad023db283d0"
      },
      "execution_count": null,
      "outputs": [
        {
          "output_type": "execute_result",
          "data": {
            "text/plain": [
              "(LinearRegressionModel2(\n",
              "   (linear_layer): Linear(in_features=1, out_features=1, bias=True)\n",
              " ),\n",
              " OrderedDict([('linear_layer.weight',\n",
              "               tensor([[-0.9419]], dtype=torch.float64)),\n",
              "              ('linear_layer.bias', tensor([0.2761], dtype=torch.float64))]))"
            ]
          },
          "metadata": {},
          "execution_count": 32
        }
      ]
    },
    {
      "cell_type": "code",
      "source": [
        "x_train = x_train.reshape(-1, 1)\n",
        "y_train = y_train.reshape(-1, 1)\n",
        "x_test = x_test.reshape(-1, 1)\n",
        "y_test = y_test.reshape(-1, 1)"
      ],
      "metadata": {
        "id": "zdyjdM-WvzR3"
      },
      "execution_count": null,
      "outputs": []
    },
    {
      "cell_type": "code",
      "source": [
        "cost_fn = nn.MSELoss()\n",
        "y_pred = model_2(x_train)\n",
        "cost = cost_fn(y_pred, y_train)\n",
        "print(model_2.state_dict())\n",
        "print(cost)\n",
        "\n",
        "optimizer = torch.optim.SGD(params=model_2.parameters(), lr=0.01)\n",
        "optimizer.zero_grad()\n",
        "cost.backward()\n",
        "optimizer.step()\n",
        "\n",
        "y_pred = model_2(x_train)\n",
        "cost = cost_fn(y_pred, y_train)\n",
        "print(model_2.state_dict())\n",
        "print(cost)"
      ],
      "metadata": {
        "colab": {
          "base_uri": "https://localhost:8080/"
        },
        "id": "yMS9Z2B8vGRO",
        "outputId": "528facda-36d2-4892-ab4b-dc8d698afdac"
      },
      "execution_count": null,
      "outputs": [
        {
          "output_type": "stream",
          "name": "stdout",
          "text": [
            "OrderedDict([('linear_layer.weight', tensor([[-0.9419]], dtype=torch.float64)), ('linear_layer.bias', tensor([0.2761], dtype=torch.float64))])\n",
            "tensor(6515.9517, dtype=torch.float64, grad_fn=<MseLossBackward0>)\n",
            "OrderedDict([('linear_layer.weight', tensor([[7.8250]], dtype=torch.float64)), ('linear_layer.bias', tensor([1.7790], dtype=torch.float64))])\n",
            "tensor(1074.6975, dtype=torch.float64, grad_fn=<MseLossBackward0>)\n"
          ]
        }
      ]
    },
    {
      "cell_type": "code",
      "source": [
        "epochs = 10000\n",
        "\n",
        "train_cost_hist = []\n",
        "test_cost_hist = []\n",
        "\n",
        "for epoch in range(epochs):\n",
        "\n",
        "  model_2.train()\n",
        "\n",
        "  y_pred = model_2(x_train)\n",
        "\n",
        "  train_cost = cost_fn(y_pred, y_train)\n",
        "  train_cost_hist.append(train_cost.detach().numpy())\n",
        "\n",
        "  optimizer.zero_grad()\n",
        "\n",
        "  train_cost.backward()\n",
        "\n",
        "  optimizer.step()\n",
        "\n",
        "  model_2.eval()\n",
        "  with torch.inference_mode():\n",
        "    test_pred = model_2(x_test)\n",
        "    test_cost = cost_fn(test_pred, y_test)\n",
        "    test_cost_hist.append(test_cost)\n",
        "\n",
        "  if epoch%1000==0:\n",
        "    print(f\"Epoch: {epoch:5}, Train Cost: {train_cost: .4e}, Test Cost: {test_cost: .4e}\")"
      ],
      "metadata": {
        "colab": {
          "base_uri": "https://localhost:8080/"
        },
        "id": "Q5EHIcGqx7Kw",
        "outputId": "baad249d-cc24-4520-9189-0004f92e6556"
      },
      "execution_count": null,
      "outputs": [
        {
          "output_type": "stream",
          "name": "stdout",
          "text": [
            "Epoch:     0, Train Cost:  1.0747e+03, Test Cost:  3.7437e+02\n",
            "Epoch:  1000, Train Cost:  3.2600e+01, Test Cost:  3.4717e+01\n",
            "Epoch:  2000, Train Cost:  3.2594e+01, Test Cost:  3.4187e+01\n",
            "Epoch:  3000, Train Cost:  3.2594e+01, Test Cost:  3.4184e+01\n",
            "Epoch:  4000, Train Cost:  3.2594e+01, Test Cost:  3.4184e+01\n",
            "Epoch:  5000, Train Cost:  3.2594e+01, Test Cost:  3.4184e+01\n",
            "Epoch:  6000, Train Cost:  3.2594e+01, Test Cost:  3.4184e+01\n",
            "Epoch:  7000, Train Cost:  3.2594e+01, Test Cost:  3.4184e+01\n",
            "Epoch:  8000, Train Cost:  3.2594e+01, Test Cost:  3.4184e+01\n",
            "Epoch:  9000, Train Cost:  3.2594e+01, Test Cost:  3.4184e+01\n"
          ]
        }
      ]
    },
    {
      "cell_type": "code",
      "source": [
        "!nvidia-smi"
      ],
      "metadata": {
        "colab": {
          "base_uri": "https://localhost:8080/"
        },
        "id": "b6MDguht6uHW",
        "outputId": "51ac82d0-78d5-47be-9cbe-20b4daf50b21"
      },
      "execution_count": null,
      "outputs": [
        {
          "output_type": "stream",
          "name": "stdout",
          "text": [
            "Mon Jul 15 10:44:19 2024       \n",
            "+---------------------------------------------------------------------------------------+\n",
            "| NVIDIA-SMI 535.104.05             Driver Version: 535.104.05   CUDA Version: 12.2     |\n",
            "|-----------------------------------------+----------------------+----------------------+\n",
            "| GPU  Name                 Persistence-M | Bus-Id        Disp.A | Volatile Uncorr. ECC |\n",
            "| Fan  Temp   Perf          Pwr:Usage/Cap |         Memory-Usage | GPU-Util  Compute M. |\n",
            "|                                         |                      |               MIG M. |\n",
            "|=========================================+======================+======================|\n",
            "|   0  Tesla T4                       Off | 00000000:00:04.0 Off |                    0 |\n",
            "| N/A   54C    P0              29W /  70W |    105MiB / 15360MiB |      0%      Default |\n",
            "|                                         |                      |                  N/A |\n",
            "+-----------------------------------------+----------------------+----------------------+\n",
            "                                                                                         \n",
            "+---------------------------------------------------------------------------------------+\n",
            "| Processes:                                                                            |\n",
            "|  GPU   GI   CI        PID   Type   Process name                            GPU Memory |\n",
            "|        ID   ID                                                             Usage      |\n",
            "|=======================================================================================|\n",
            "+---------------------------------------------------------------------------------------+\n"
          ]
        }
      ]
    },
    {
      "cell_type": "code",
      "source": [
        "torch.cuda.is_available()"
      ],
      "metadata": {
        "colab": {
          "base_uri": "https://localhost:8080/"
        },
        "id": "TQEx6I5-61Ha",
        "outputId": "b94f4828-73d7-487e-b147-cfb852ee44d8"
      },
      "execution_count": null,
      "outputs": [
        {
          "output_type": "execute_result",
          "data": {
            "text/plain": [
              "True"
            ]
          },
          "metadata": {},
          "execution_count": 37
        }
      ]
    },
    {
      "cell_type": "code",
      "source": [
        "torch.cuda.device_count()"
      ],
      "metadata": {
        "colab": {
          "base_uri": "https://localhost:8080/"
        },
        "id": "pAcV6ACZ658b",
        "outputId": "fead45d4-ae84-410d-e88f-dc9fbc1dc09b"
      },
      "execution_count": null,
      "outputs": [
        {
          "output_type": "execute_result",
          "data": {
            "text/plain": [
              "1"
            ]
          },
          "metadata": {},
          "execution_count": 38
        }
      ]
    },
    {
      "cell_type": "code",
      "source": [
        "device = \"cuda\" if torch.cuda.is_available() else \"cpu\"\n",
        "device"
      ],
      "metadata": {
        "colab": {
          "base_uri": "https://localhost:8080/",
          "height": 36
        },
        "id": "NBpqCe2X6-q_",
        "outputId": "03786de0-17e2-4934-b7ab-c369008d7aa8"
      },
      "execution_count": null,
      "outputs": [
        {
          "output_type": "execute_result",
          "data": {
            "text/plain": [
              "'cuda'"
            ],
            "application/vnd.google.colaboratory.intrinsic+json": {
              "type": "string"
            }
          },
          "metadata": {},
          "execution_count": 39
        }
      ]
    },
    {
      "cell_type": "code",
      "source": [
        "tensor = torch.tensor([1, 2, 3], device=device)\n",
        "tensor, tensor.device"
      ],
      "metadata": {
        "colab": {
          "base_uri": "https://localhost:8080/"
        },
        "id": "hh7NSYyM7Hqp",
        "outputId": "ee662935-59c0-4ed2-a35d-a740d9185631"
      },
      "execution_count": null,
      "outputs": [
        {
          "output_type": "execute_result",
          "data": {
            "text/plain": [
              "(tensor([1, 2, 3], device='cuda:0'), device(type='cuda', index=0))"
            ]
          },
          "metadata": {},
          "execution_count": 40
        }
      ]
    },
    {
      "cell_type": "code",
      "source": [
        "model_3 = LinearRegressionModel2()\n",
        "model_3 = model_3.to(device)\n",
        "model_3.linear_layer.weight.device, model_3.linear_layer.bias.device"
      ],
      "metadata": {
        "colab": {
          "base_uri": "https://localhost:8080/"
        },
        "id": "7qYriZ--_Mpd",
        "outputId": "e49b51dd-7859-4e46-9d5d-3813dec3d462"
      },
      "execution_count": null,
      "outputs": [
        {
          "output_type": "execute_result",
          "data": {
            "text/plain": [
              "(device(type='cuda', index=0), device(type='cuda', index=0))"
            ]
          },
          "metadata": {},
          "execution_count": 41
        }
      ]
    },
    {
      "cell_type": "code",
      "source": [
        "x_train = x_train.to(device)\n",
        "y_train = y_train.to(device)\n",
        "x_test = x_test.to(device)\n",
        "y_test = y_test.to(device)"
      ],
      "metadata": {
        "id": "DH4fZUgJ_dI5"
      },
      "execution_count": null,
      "outputs": []
    },
    {
      "cell_type": "code",
      "source": [
        "cost_fn = nn.MSELoss()\n",
        "y_pred = model_3(x_train)\n",
        "cost = cost_fn(y_pred, y_train)\n",
        "print(model_3.state_dict())\n",
        "print(cost)\n",
        "\n",
        "optimizer = torch.optim.SGD(params=model_3.parameters(), lr=0.01)\n",
        "optimizer.zero_grad()\n",
        "cost.backward()\n",
        "optimizer.step()\n",
        "\n",
        "y_pred = model_3(x_train)\n",
        "cost = cost_fn(y_pred, y_train)\n",
        "print(model_3.state_dict())\n",
        "print(cost)"
      ],
      "metadata": {
        "colab": {
          "base_uri": "https://localhost:8080/"
        },
        "id": "vnE_MKR1_chz",
        "outputId": "1803d214-2dff-4da0-98c9-c6e8f3c155e5"
      },
      "execution_count": null,
      "outputs": [
        {
          "output_type": "stream",
          "name": "stdout",
          "text": [
            "OrderedDict([('linear_layer.weight', tensor([[-0.2918]], device='cuda:0', dtype=torch.float64)), ('linear_layer.bias', tensor([-0.2794], device='cuda:0', dtype=torch.float64))])\n",
            "tensor(6039.2049, device='cuda:0', dtype=torch.float64,\n",
            "       grad_fn=<MseLossBackward0>)\n",
            "OrderedDict([('linear_layer.weight', tensor([[8.1315]], device='cuda:0', dtype=torch.float64)), ('linear_layer.bias', tensor([1.1729], device='cuda:0', dtype=torch.float64))])\n",
            "tensor(1014.4567, device='cuda:0', dtype=torch.float64,\n",
            "       grad_fn=<MseLossBackward0>)\n"
          ]
        }
      ]
    },
    {
      "cell_type": "code",
      "source": [
        "epochs = 10000\n",
        "\n",
        "train_cost_hist = []\n",
        "test_cost_hist = []\n",
        "\n",
        "for epoch in range(epochs):\n",
        "\n",
        "  model_3.train()\n",
        "\n",
        "  y_pred = model_3(x_train)\n",
        "\n",
        "  train_cost = cost_fn(y_pred, y_train)\n",
        "  train_cost_hist.append(train_cost.cpu().detach().numpy())\n",
        "\n",
        "  optimizer.zero_grad()\n",
        "\n",
        "  train_cost.backward()\n",
        "\n",
        "  optimizer.step()\n",
        "\n",
        "  model_3.eval()\n",
        "  with torch.inference_mode():\n",
        "    test_pred = model_3(x_test)\n",
        "    test_cost = cost_fn(test_pred, y_test)\n",
        "    test_cost_hist.append(test_cost.cpu())\n",
        "\n",
        "  if epoch%1000==0:\n",
        "    print(f\"Epoch: {epoch:5}, Train Cost: {train_cost: .4e}, Test Cost: {test_cost: .4e}\")"
      ],
      "metadata": {
        "colab": {
          "base_uri": "https://localhost:8080/"
        },
        "id": "-SEM0QmD_1Lr",
        "outputId": "e042b3d6-02af-4912-c885-032a61fb179e"
      },
      "execution_count": null,
      "outputs": [
        {
          "output_type": "stream",
          "name": "stdout",
          "text": [
            "Epoch:     0, Train Cost:  1.0145e+03, Test Cost:  3.7527e+02\n",
            "Epoch:  1000, Train Cost:  3.2600e+01, Test Cost:  3.4731e+01\n",
            "Epoch:  2000, Train Cost:  3.2594e+01, Test Cost:  3.4187e+01\n",
            "Epoch:  3000, Train Cost:  3.2594e+01, Test Cost:  3.4184e+01\n",
            "Epoch:  4000, Train Cost:  3.2594e+01, Test Cost:  3.4184e+01\n",
            "Epoch:  5000, Train Cost:  3.2594e+01, Test Cost:  3.4184e+01\n",
            "Epoch:  6000, Train Cost:  3.2594e+01, Test Cost:  3.4184e+01\n",
            "Epoch:  7000, Train Cost:  3.2594e+01, Test Cost:  3.4184e+01\n",
            "Epoch:  8000, Train Cost:  3.2594e+01, Test Cost:  3.4184e+01\n",
            "Epoch:  9000, Train Cost:  3.2594e+01, Test Cost:  3.4184e+01\n"
          ]
        }
      ]
    },
    {
      "cell_type": "code",
      "source": [
        "import matplotlib.pyplot as plt\n",
        "plt.plot(range(0, 10000), train_cost_hist, label=\"train cost\")\n",
        "plt.plot(range(0, 10000), test_cost_hist, label=\"test cost\")\n",
        "plt.title(\"train & test cost\")\n",
        "plt.xlabel(\"epochs\")\n",
        "plt.ylabel(\"cost\")\n",
        "plt.legend()\n",
        "plt.show()"
      ],
      "metadata": {
        "colab": {
          "base_uri": "https://localhost:8080/",
          "height": 472
        },
        "id": "JIgDPCQIAXLT",
        "outputId": "f0f9f1da-e937-47aa-b14c-cd0d4449d819"
      },
      "execution_count": null,
      "outputs": [
        {
          "output_type": "display_data",
          "data": {
            "text/plain": [
              "<Figure size 640x480 with 1 Axes>"
            ],
            "image/png": "[encoded data removed]"
          },
          "metadata": {}
        }
      ]
    },
    {
      "cell_type": "code",
      "source": [
        "torch.save(obj=model_3.state_dict(), f=\"model/linear_regression_2.pth\")"
      ],
      "metadata": {
        "id": "mKl_aObgAv1p"
      },
      "execution_count": null,
      "outputs": []
    },
    {
      "cell_type": "code",
      "source": [
        "model_4 = LinearRegressionModel2()\n",
        "model_4.load_state_dict(torch.load(f=\"model/linear_regression_2.pth\"))\n",
        "model_4.state_dict()"
      ],
      "metadata": {
        "colab": {
          "base_uri": "https://localhost:8080/"
        },
        "id": "T4dEsbtAA9Rq",
        "outputId": "fd27253d-0c29-41c8-a1a5-5ee4ffab7990"
      },
      "execution_count": null,
      "outputs": [
        {
          "output_type": "execute_result",
          "data": {
            "text/plain": [
              "OrderedDict([('linear_layer.weight', tensor([[9.3308]], dtype=torch.float64)),\n",
              "             ('linear_layer.bias', tensor([26.6288], dtype=torch.float64))])"
            ]
          },
          "metadata": {},
          "execution_count": 48
        }
      ]
    },
    {
      "cell_type": "code",
      "source": [
        "model_4.to(device)\n",
        "model_4.eval()\n",
        "with torch.inference_mode():\n",
        "  y_pred = model_4(x_test)\n",
        "y_pred, y_test"
      ],
      "metadata": {
        "id": "22xsANHuA___"
      },
      "execution_count": null,
      "outputs": []
    }
  ]
}